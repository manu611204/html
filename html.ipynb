{
  "nbformat": 4,
  "nbformat_minor": 0,
  "metadata": {
    "colab": {
      "provenance": []
    },
    "kernelspec": {
      "name": "python3",
      "display_name": "Python 3"
    },
    "language_info": {
      "name": "python"
    }
  },
  "cells": [
    {
      "cell_type": "code",
      "execution_count": null,
      "metadata": {
        "id": "J-ZC0LxnA4ub"
      },
      "outputs": [],
      "source": []
    },
    {
      "cell_type": "markdown",
      "source": [
        "HTML"
      ],
      "metadata": {
        "id": "heffLw1eBNb7"
      }
    },
    {
      "cell_type": "markdown",
      "source": [
        "1. Write a simple program in HTML  that displays the heading \"HTML defines the content and structure of\n",
        "your website” on the web browser?\n",
        "\n"
      ],
      "metadata": {
        "id": "h7znYHsXBcsT"
      }
    },
    {
      "cell_type": "code",
      "source": [
        "1.Write a simple program in HTML that displays the heading \"HTML defines the content and structure of your website” on the web browser?\n",
        "-><!DOCTYPE html>\n",
        "<html>\n",
        "<head>\n",
        "    <title>Simple HTML Program</title>\n",
        "</head>\n",
        "<body>\n",
        "    <h1>HTML defines the content and structure of your website</h1>\n",
        "</body>\n",
        "</html>\n"
      ],
      "metadata": {
        "id": "Vp3Wrz7DDilN"
      },
      "execution_count": null,
      "outputs": []
    },
    {
      "cell_type": "markdown",
      "source": [
        "2. Explain the purpose of comments in HTML and provide an example of how to use comments in an HTML\n",
        "document?\n",
        "-> In HTML, comments are used to add notes or explanations within the code that are not displayed in the web browser.They are helpful for documenting the code, making it easier for you or others to understand and maintain it later. Comments can also be used to temporarily disable a part of the code without deleting it."
      ],
      "metadata": {
        "id": "AKYrqft8EO7x"
      }
    },
    {
      "cell_type": "code",
      "source": [
        "2.Explain the purpose of comments in HTML and provide an example of how to use comments in an HTML\n",
        "document?\n",
        "-><!DOCTYPE html>\n",
        "<html>\n",
        "<head>\n",
        "    <title>HTML Comments Example</title>\n",
        "</head>\n",
        "<body>\n",
        "    <!-- This is a comment and will not be displayed in the browser -->\n",
        "    <h1>HTML defines the content and structure of your website</h1>\n",
        "\n",
        "    <!-- The following paragraph is temporarily disabled\n",
        "    <p>This paragraph will not be rendered in the browser</p>\n",
        "    -->\n",
        "\n",
        "    <p>This paragraph will be rendered in the browser</p>\n",
        "</body>\n",
        "</html>\n"
      ],
      "metadata": {
        "id": "MpSbzL7XHd2j"
      },
      "execution_count": null,
      "outputs": []
    },
    {
      "cell_type": "markdown",
      "source": [
        "3.\n",
        " Write an HTML program that includes a heading, a paragraph of text, a horizontal line, and a line break.\n",
        "Arrange these elements to create a simple web page layout?"
      ],
      "metadata": {
        "id": "4_0XSwEJHYGb"
      }
    },
    {
      "cell_type": "code",
      "source": [
        "3.Write an HTML program that includes a heading, a paragraph of text, a horizontal line, and a line break. Arrange these elements to create a simple web page layout?\n",
        "-> <!DOCTYPE html>\n",
        "<html>\n",
        "<head>\n",
        "    <title>Simple Web Page Layout</title>\n",
        "</head>\n",
        "<body>\n",
        "    <h1>Welcome to My Simple Web Page</h1>\n",
        "    <p>This is a paragraph of text that provides some information about the content of the web page.</p>\n",
        "    <hr>\n",
        "    <p>This is another paragraph after a horizontal line.</p>\n",
        "    <br>\n",
        "    <p>This is a paragraph after a line break.</p>\n",
        "</body>\n",
        "</html>\n"
      ],
      "metadata": {
        "id": "_4-FMgVwIRuJ"
      },
      "execution_count": null,
      "outputs": []
    },
    {
      "cell_type": "markdown",
      "source": [
        "4.Write a short note on Tag and element with an example?\n",
        "\n",
        "->**Tags:** Tags are the building blocks of an HTML document. They are used to mark the beginning and end of an HTML element. Tags are written within angle brackets (< >). Most HTML tags come in pairs: an opening tag (e.g., <p>) and a closing tag (e.g., </p>). The content between these tags is the content of the element. Some tags, known as self-closing tags, do not have a closing counterpart (e.g., <br> for a line break).\n",
        "\n",
        "**Elements:** An HTML element consists of an opening tag, content, and a closing tag. Elements are the actual content holders in an HTML document. They define the structure and content of web pages. Elements can be nested within other elements to create complex structures."
      ],
      "metadata": {
        "id": "DYcvQbXlIkdB"
      }
    },
    {
      "cell_type": "code",
      "source": [
        "4.Write a short note on Tag and element with an example?\n",
        "-><!DOCTYPE html>\n",
        "<html>\n",
        "<head>\n",
        "    <title>Tag and Element Example</title>\n",
        "</head>\n",
        "<body>\n",
        "    <!-- Heading element -->\n",
        "    <h1>This is a Heading</h1>\n",
        "\n",
        "    <!-- Paragraph element -->\n",
        "    <p>This is a paragraph of text.</p>\n",
        "\n",
        "    <!-- Line break element -->\n",
        "    <br>\n",
        "\n",
        "    <!-- Horizontal line element -->\n",
        "    <hr>\n",
        "\n",
        "    <!-- Another paragraph element -->\n",
        "    <p>This is another paragraph of text.</p>\n",
        "</body>\n",
        "</html>\n"
      ],
      "metadata": {
        "id": "9Y7kWhEvJ_29"
      },
      "execution_count": null,
      "outputs": []
    },
    {
      "cell_type": "markdown",
      "source": [
        "5. What is the DOCTYPE Declaration in HTML?\n",
        "\n",
        "->  The DOCTYPE declaration in HTML is a critical part of any HTML document. It is used to specify the version of HTML that the web page is written in. This helps browsers understand how to correctly render the content of the page.\n",
        "\n",
        "The DOCTYPE declaration must appear at the very top of an HTML document, before the <html> tag. It is not an HTML tag itself but an instruction to the browser about what type of document to expect.\n"
      ],
      "metadata": {
        "id": "Vzr_KBuKKi3S"
      }
    }
  ]
}